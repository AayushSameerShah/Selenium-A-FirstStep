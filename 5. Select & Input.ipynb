{
 "cells": [
  {
   "cell_type": "markdown",
   "id": "1ceb9231-a85d-4c17-ba32-415df69b0ef0",
   "metadata": {},
   "source": [
    "# For the First time\n",
    "We will \"input\" from the script and change the value on the page! "
   ]
  },
  {
   "cell_type": "code",
   "execution_count": 3,
   "id": "71cc4d59-94cf-4cc2-b527-7ab535ffd4b2",
   "metadata": {},
   "outputs": [],
   "source": [
    "# Usual imports for selenium automation\n",
    "from selenium import webdriver\n",
    "import warnings\n",
    "warnings.filterwarnings(\"ignore\")"
   ]
  },
  {
   "cell_type": "code",
   "execution_count": 2,
   "id": "8604220d-0181-4007-ac88-2bcf918ca562",
   "metadata": {},
   "outputs": [],
   "source": [
    "site = \"https://www.olx.in\""
   ]
  },
  {
   "cell_type": "code",
   "execution_count": 4,
   "id": "6b1e4824-c906-40ca-ad97-ef0154eef6a1",
   "metadata": {},
   "outputs": [],
   "source": [
    "driver = webdriver.Edge(r\"C:/WebDrivers/msedgedriver.exe\")\n",
    "driver.get(site)\n",
    "\n",
    "srch_box = driver.find_element_by_xpath('//input[@data-aut-id=\"searchBox\"]')"
   ]
  },
  {
   "cell_type": "markdown",
   "id": "6ad37060-774e-4b12-8257-16c92ca6853a",
   "metadata": {},
   "source": [
    "# We CAN freakin `Click`!!"
   ]
  },
  {
   "cell_type": "code",
   "execution_count": 12,
   "id": "04373038-eb5b-4f6a-9e4d-2e4ff27f3431",
   "metadata": {},
   "outputs": [],
   "source": [
    "srch_box.click()\n",
    "srch_box.send_keys(\"Aayush From Automation!!!\")"
   ]
  },
  {
   "cell_type": "markdown",
   "id": "c58595f5-1d4e-43db-bff3-71e4a9ef6b6a",
   "metadata": {},
   "source": [
    "<img src=\"../reference_images/click_input.png\" height=350 width=700>"
   ]
  },
  {
   "cell_type": "markdown",
   "id": "28725c47-c935-427e-8467-9e1ffe3092f0",
   "metadata": {},
   "source": [
    "# "
   ]
  },
  {
   "cell_type": "markdown",
   "id": "6fef9df1-f05d-4c53-9598-52c0a8c0b02f",
   "metadata": {},
   "source": [
    "### So That Means...\n",
    "We can make a program which can input some string in the google search box and then press enter or click on the search button. Aah!"
   ]
  },
  {
   "cell_type": "markdown",
   "id": "429ec68f-76dc-42a7-a42e-4dbd66363fec",
   "metadata": {},
   "source": [
    "# "
   ]
  },
  {
   "cell_type": "markdown",
   "id": "8541e744-a74d-4dae-a4ea-fe6a7d3712a3",
   "metadata": {},
   "source": [
    "Little Script For Google Seach For INDIA"
   ]
  },
  {
   "cell_type": "code",
   "execution_count": 19,
   "id": "50f6b9b7-0df1-4d35-b20e-3020f38cde19",
   "metadata": {},
   "outputs": [],
   "source": [
    "site = \"https://www.google.com\"\n",
    "driver = webdriver.Edge(r\"C:/WebDrivers/msedgedriver.exe\")\n",
    "driver.get(site)\n",
    "\n",
    "srch_box = driver.find_element_by_xpath('//input[@class=\"gLFyf gsfi\"]')"
   ]
  },
  {
   "cell_type": "code",
   "execution_count": 20,
   "id": "b5712f28-e134-4e3c-b4f5-494438fd5741",
   "metadata": {},
   "outputs": [],
   "source": [
    "from selenium.webdriver.common.keys import Keys\n",
    "\n",
    "srch_box.send_keys(\"India\")\n",
    "srch_box.send_keys(Keys.RETURN)"
   ]
  },
  {
   "cell_type": "markdown",
   "id": "d65620d3-b544-4bc6-83d6-6e6a0a63ae22",
   "metadata": {},
   "source": [
    "Great!! We have just done the basic automation with python!! I am amazed!"
   ]
  },
  {
   "cell_type": "markdown",
   "id": "fdd907e7-d5e3-4b0a-890f-b713510eef78",
   "metadata": {},
   "source": [
    "# "
   ]
  },
  {
   "cell_type": "markdown",
   "id": "fc16c755-a042-4039-8200-c07030601078",
   "metadata": {},
   "source": [
    "# BAKI"
   ]
  }
 ],
 "metadata": {
  "kernelspec": {
   "display_name": "Python 3 (ipykernel)",
   "language": "python",
   "name": "python3"
  },
  "language_info": {
   "codemirror_mode": {
    "name": "ipython",
    "version": 3
   },
   "file_extension": ".py",
   "mimetype": "text/x-python",
   "name": "python",
   "nbconvert_exporter": "python",
   "pygments_lexer": "ipython3",
   "version": "3.9.7"
  }
 },
 "nbformat": 4,
 "nbformat_minor": 5
}
