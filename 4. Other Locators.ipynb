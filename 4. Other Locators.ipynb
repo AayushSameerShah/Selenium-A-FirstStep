{
 "cells": [
  {
   "cell_type": "markdown",
   "id": "94bc777c-5780-401d-8cb4-e5cbd25b913c",
   "metadata": {},
   "source": [
    "# Locators?\n",
    "Briefly, what Xpath is... is just a locator. So whichever element that you are ***\"catching\"*** by ***\"which\"*** is the locator. Till now, we were using Xpath (which could potentially use the \"class\" inside... but the **big buddy** was the Xpath) we can use other locators as well. \n",
    "\n",
    "Which? We will see just now."
   ]
  },
  {
   "cell_type": "code",
   "execution_count": 1,
   "id": "266b9ba7-cce7-4cf0-920c-fa9aae948fa6",
   "metadata": {},
   "outputs": [],
   "source": [
    "# Usual imports for selenium automation\n",
    "from selenium import webdriver\n",
    "import warnings\n",
    "warnings.filterwarnings(\"ignore\")"
   ]
  },
  {
   "cell_type": "code",
   "execution_count": 3,
   "id": "683d88f8-c380-456f-88eb-855bd3257a3b",
   "metadata": {},
   "outputs": [],
   "source": [
    "site = \"https://www.olx.in\"\n",
    "driver = webdriver.Edge(r\"C:/WebDrivers/msedgedriver.exe\")\n",
    "driver.get(site)"
   ]
  },
  {
   "cell_type": "markdown",
   "id": "0245ac0d-665d-4cef-afe6-d1b5707f606d",
   "metadata": {},
   "source": [
    "# "
   ]
  },
  {
   "cell_type": "markdown",
   "id": "f21c964d-0c0c-4a66-a78d-64a85aa2f037",
   "metadata": {},
   "source": [
    "### `Class` locator"
   ]
  },
  {
   "cell_type": "markdown",
   "id": "cc1f0b79-68e5-4846-9750-d2874e256aee",
   "metadata": {},
   "source": [
    "Singular"
   ]
  },
  {
   "cell_type": "code",
   "execution_count": 18,
   "id": "e1160963-e5fd-44bd-a817-67f2e2251468",
   "metadata": {},
   "outputs": [
    {
     "data": {
      "text/plain": [
       "'Weekend sale on used refrigerator and washing machine grab it soon..'"
      ]
     },
     "execution_count": 18,
     "metadata": {},
     "output_type": "execute_result"
    }
   ],
   "source": [
    "product_name = driver.find_element_by_class_name(\"_2tW1I\")\n",
    "product_name.text"
   ]
  },
  {
   "cell_type": "markdown",
   "id": "252ab74b-96c2-495a-b31e-1b85da3482be",
   "metadata": {},
   "source": [
    "Plural"
   ]
  },
  {
   "cell_type": "code",
   "execution_count": 20,
   "id": "32a2b27d-dcc1-47a6-b9b8-faa6b9d57609",
   "metadata": {},
   "outputs": [
    {
     "name": "stdout",
     "output_type": "stream",
     "text": [
      "Weekend sale on used refrigerator and washing machine grab it soon..\n",
      "Ashok leyland 1616 in good condition\n",
      "HANDWRITING AND OFFLINE TYPING JOB (WORK FROM HOME)\n",
      "Impex , tower fan\n",
      "Brand new Double bed for sale\n",
      "Led repair karane ke liye sampark kre\n",
      "Branded chain watches CASH ON DELIVERY price negotiable hurry\n",
      "Rajput dj 150000\n",
      "PHILIPS HANDS-FREE\n",
      "Audi A6 2012\n",
      "Wardrobe Beds Almari sofas Manufacturer\n",
      "Commercial Hall Available for Rent\n",
      "Iphone 11 Limited Stock Available In Cheap Price.*\n",
      "Refurbished Iphone 6 Availabe.*\n",
      "Audi A6 2012\n",
      "Tvs jupiter 110cc ,model-2014 ,sigle owner,insurance corrent\n",
      "MDF Wall Shelf @Rs 650\n",
      "IPhone 11 128 GB\n",
      "Samsung watches back in stock\n",
      "LOW PRICE BEST HOME CINEMA HD LED MULTIMEDIA VIDEO PROJECTOR USB HDMI\n",
      "Series 6 44mm starts under 2500\n",
      "Key Holder\n",
      "Jivika Sensational Kurtis\n",
      "YOU CAN MAKE EXISTING OLD TV/LCD/LED/PROJECTOR Into 4K TV BOX 4GB 64GB\n",
      "Samsung active 3 back in stock\n",
      "RDD2 LED 3D 4K projector wifi smart youtube live tv usb hdmi 155 inchs\n",
      "Samsung active 2/3 available\n",
      "T9A UPGRADE YOUTUBE MIRACAST SMART 3D 3200 LUMENS LED PROJECTOR WIFI\n",
      "Series 6 44mm\n",
      "Wall Shelf\n"
     ]
    }
   ],
   "source": [
    "product_names = driver.find_elements_by_class_name(\"_2tW1I\")\n",
    "\n",
    "for names in product_names:\n",
    "    print(names.text)"
   ]
  },
  {
   "cell_type": "markdown",
   "id": "8fb69562-bc7d-4608-92a4-409b37faae21",
   "metadata": {},
   "source": [
    "# "
   ]
  },
  {
   "cell_type": "markdown",
   "id": "f7ed7105-945c-4c7b-b6c4-1f99a800ab4b",
   "metadata": {},
   "source": [
    "### `Link Text` locator"
   ]
  },
  {
   "cell_type": "markdown",
   "id": "303f897c-daba-4c2a-9440-5d1e5bc601ad",
   "metadata": {},
   "source": [
    "1. Link Text\n",
    "2. Partial Link Text\n",
    "\n",
    "We use this **to grab the `<a>` tag** with the given text. Again, **only to automatically grab the `<a>` tags**. It won't work for other tags."
   ]
  },
  {
   "cell_type": "code",
   "execution_count": 26,
   "id": "f5433b4b-2740-46d2-a199-557779b3bdad",
   "metadata": {},
   "outputs": [
    {
     "data": {
      "text/plain": [
       "<selenium.webdriver.remote.webelement.WebElement (session=\"6bf4cd2a6d4decf8a3895d6d2740aef0\", element=\"f07f8e62-c6d9-410b-b927-092887f876fe\")>"
      ]
     },
     "execution_count": 26,
     "metadata": {},
     "output_type": "execute_result"
    }
   ],
   "source": [
    "driver.find_element_by_link_text(\"Cars\")"
   ]
  },
  {
   "cell_type": "markdown",
   "id": "20de7348-f809-486c-a1d6-ec57347611a2",
   "metadata": {},
   "source": [
    "↑ Here, it will find for the tag with the \"Cars\" in the tag text.<br>\n",
    "Example in the code...\n",
    "```html\n",
    "<a href=\"www.cars.com\">Cars</a>              # 1\n",
    "<a href=\"www.cars.com\">Cars Here!</a>        # 2\n",
    "<a href=\"www.cars.com\">Some other link</a>   # 3\n",
    "```\n",
    "Here, the given code will grab and take only the #1 link.\n",
    "___\n",
    "There is another method called \"partial\" link.\n",
    "\n",
    "```python\n",
    "driver.find_element_by_partial_link_text(\"Cars\")\n",
    "```\n",
    "It will grab #1 and #2 as \"Cars\" is the \"partial\" text."
   ]
  },
  {
   "cell_type": "markdown",
   "id": "282df964-d4fe-4365-a0f8-72301bfb5f9f",
   "metadata": {},
   "source": [
    "# "
   ]
  },
  {
   "cell_type": "markdown",
   "id": "f8c56ca5-5cf6-4f24-8b45-a4c5737a0952",
   "metadata": {},
   "source": [
    "### Other Locators"
   ]
  },
  {
   "cell_type": "code",
   "execution_count": 24,
   "id": "529f3f1b-c60e-452d-8ca3-4c83c365b497",
   "metadata": {},
   "outputs": [
    {
     "data": {
      "text/plain": [
       "['find_element_by_class_name',\n",
       " 'find_element_by_css_selector',\n",
       " 'find_element_by_id',\n",
       " 'find_element_by_link_text',\n",
       " 'find_element_by_name',\n",
       " 'find_element_by_partial_link_text',\n",
       " 'find_element_by_tag_name',\n",
       " 'find_element_by_xpath']"
      ]
     },
     "execution_count": 24,
     "metadata": {},
     "output_type": "execute_result"
    }
   ],
   "source": [
    "[finds for finds in dir(driver) if finds.startswith(\"find_element_\")]"
   ]
  },
  {
   "cell_type": "markdown",
   "id": "497e159a-5ea4-4278-8bae-c6c5198c3676",
   "metadata": {},
   "source": [
    "# "
   ]
  },
  {
   "cell_type": "markdown",
   "id": "6f6abc3b-0310-4f5b-86fe-abcdd159cd22",
   "metadata": {},
   "source": [
    "### We will be...\n",
    "using them as our need... they are the exact replacement of  `find(attr={class:\"value\"})` so the repetation is useless. But we may use them in the future example projects."
   ]
  },
  {
   "cell_type": "markdown",
   "id": "3c77801f-a402-42b2-ba82-6a14ab473ed6",
   "metadata": {},
   "source": [
    "# "
   ]
  },
  {
   "cell_type": "markdown",
   "id": "69c9b1b5-248a-4085-ade9-a1ddc8fe653e",
   "metadata": {},
   "source": [
    "# Next up\n",
    "Select the specific element and change value!"
   ]
  }
 ],
 "metadata": {
  "kernelspec": {
   "display_name": "Python 3 (ipykernel)",
   "language": "python",
   "name": "python3"
  },
  "language_info": {
   "codemirror_mode": {
    "name": "ipython",
    "version": 3
   },
   "file_extension": ".py",
   "mimetype": "text/x-python",
   "name": "python",
   "nbconvert_exporter": "python",
   "pygments_lexer": "ipython3",
   "version": "3.9.7"
  }
 },
 "nbformat": 4,
 "nbformat_minor": 5
}
