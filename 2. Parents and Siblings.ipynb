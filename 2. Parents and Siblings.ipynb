{
 "cells": [
  {
   "cell_type": "markdown",
   "metadata": {},
   "source": [
    "# Wait what?"
   ]
  },
  {
   "cell_type": "markdown",
   "metadata": {},
   "source": [
    "Parents and Siblings? <br>\n",
    "Yeah, I mean, of course!\n",
    "\n",
    "Each element there (even `<html>`) have their own parents. And thus the siglings but not necessarily required."
   ]
  },
  {
   "cell_type": "markdown",
   "metadata": {},
   "source": [
    "##### "
   ]
  },
  {
   "cell_type": "markdown",
   "metadata": {},
   "source": [
    "<img src=\"./reference_images/Parent - Siblings.png\" width=500>"
   ]
  },
  {
   "cell_type": "markdown",
   "metadata": {},
   "source": [
    "# "
   ]
  },
  {
   "cell_type": "markdown",
   "metadata": {},
   "source": [
    "Now sometimes what happens is... we want to travel **from child to parent** so we need to access the parent by this ↓"
   ]
  },
  {
   "cell_type": "markdown",
   "metadata": {},
   "source": [
    "## Access `Parent ← Child`"
   ]
  },
  {
   "cell_type": "markdown",
   "metadata": {},
   "source": [
    "**Syntax:**<br>\n",
    "`here/parent::tag`\n",
    "\n",
    "Note: The `here` is the \"current\" element. We can reach there by any method: absolute / relative."
   ]
  },
  {
   "cell_type": "markdown",
   "metadata": {},
   "source": [
    "So, in big names!\n",
    "> # `/parent::tag`"
   ]
  },
  {
   "cell_type": "markdown",
   "metadata": {},
   "source": [
    "# "
   ]
  },
  {
   "cell_type": "markdown",
   "metadata": {},
   "source": [
    "## Access `Sibling ← Sibling`"
   ]
  },
  {
   "cell_type": "markdown",
   "metadata": {},
   "source": [
    "As there there can be 2 types of Sibling: Sister or Brother here we have 2 as well. Not genderwise but the **order wise**.\n",
    "\n",
    "1. Preceding (before here)\n",
    "2. Following (after here)"
   ]
  },
  {
   "cell_type": "markdown",
   "metadata": {},
   "source": [
    "**Syntax:**<br>\n",
    "`here/preceding-sibling::tag[th]` <br>\n",
    "or <br>\n",
    "`here/following-sibling::tag[th]`\n",
    "\n",
    "Note: The `here` is the \"current\" element. We can reach there by any method: absolute / relative."
   ]
  },
  {
   "cell_type": "markdown",
   "metadata": {},
   "source": [
    "So, in big names!\n",
    "> # `/preceding-sibling::tag[th]`\n",
    "\n",
    "> # `/following-sibling::tag[th]`"
   ]
  },
  {
   "cell_type": "markdown",
   "metadata": {},
   "source": [
    "**Pro Tip**: When you want to access the parent's parent... then you can use \"Ancestor\" as the keyword."
   ]
  },
  {
   "cell_type": "markdown",
   "metadata": {},
   "source": [
    "Ex: `/here/ancestor::div[th]` <br>\n",
    "There ↑ you can use the `th` because it answers \"which parent\"? Which was not the case in the simple parent find. Hah!"
   ]
  },
  {
   "cell_type": "markdown",
   "metadata": {},
   "source": [
    "# "
   ]
  },
  {
   "cell_type": "markdown",
   "metadata": {},
   "source": [
    "# That's it!\n",
    "We will take a look at something new in another section!"
   ]
  }
 ],
 "metadata": {
  "kernelspec": {
   "display_name": "Python 3",
   "language": "python",
   "name": "python3"
  },
  "language_info": {
   "codemirror_mode": {
    "name": "ipython",
    "version": 3
   },
   "file_extension": ".py",
   "mimetype": "text/x-python",
   "name": "python",
   "nbconvert_exporter": "python",
   "pygments_lexer": "ipython3",
   "version": "3.8.5"
  }
 },
 "nbformat": 4,
 "nbformat_minor": 4
}
