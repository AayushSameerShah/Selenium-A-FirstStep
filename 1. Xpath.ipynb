{
 "cells": [
  {
   "cell_type": "markdown",
   "metadata": {},
   "source": [
    "# Xpath"
   ]
  },
  {
   "cell_type": "markdown",
   "metadata": {},
   "source": [
    "Formally...\n",
    "> XPath is a query language for selecting nodes from an XML document.\n"
   ]
  },
  {
   "cell_type": "markdown",
   "metadata": {},
   "source": [
    "Thus, `Xpath = XML Path`"
   ]
  },
  {
   "cell_type": "markdown",
   "metadata": {},
   "source": [
    "### Till now...\n",
    "You know, we have been working with the `bs4`, which provides an interface to ***access*** some element / tag from the \"python side\", but this buddy is *kinda* new here.\n",
    "\n",
    "— This is called **XPath**."
   ]
  },
  {
   "cell_type": "markdown",
   "metadata": {},
   "source": [
    "There are multiple elements to work with... and you may ask \"Where the heck is selenium?\" — that too will be answered, but for now we will take a look at a new `Xpath`.\n",
    "\n",
    "So, what exactly is Xpath?<br>\n",
    "Informally...\n",
    "> Xpath is a kind of syntax that allows you to access the element/tag or better word \"catch\" the element/tag **from the browser itself**."
   ]
  },
  {
   "cell_type": "markdown",
   "metadata": {},
   "source": [
    "It becomes much easy to \"Grab\" the element you want right from the browser, right? Unlike you want to get back and forth between browser and python.\n",
    "\n",
    "It is like, using \"RegEx\" right in the sublime with the find tool instead from the python."
   ]
  },
  {
   "cell_type": "markdown",
   "metadata": {},
   "source": [
    "###### "
   ]
  },
  {
   "cell_type": "markdown",
   "metadata": {},
   "source": [
    "## The Parts"
   ]
  },
  {
   "cell_type": "markdown",
   "metadata": {},
   "source": [
    "1. **Path**: Relative or Absolute\n",
    "2. **Slash**: Double or Single\n",
    "3. **Locators**: By what do you want to locate the unique element?"
   ]
  },
  {
   "cell_type": "markdown",
   "metadata": {},
   "source": [
    "## The Syntax"
   ]
  },
  {
   "cell_type": "markdown",
   "metadata": {},
   "source": [
    "Simple ↓ <br>\n",
    "`//tag[@attr=\"value\"]`\n",
    "\n",
    "We use the indexer `[]` to catch the item from the group of elements. <br> Example:\n",
    "\n",
    "`//div[@class=\"product-image\"][1]`\n",
    "\n",
    "*If the indexing doesn't work... use the `()` like ↓*\n",
    "\n",
    "`(//div[@class=\"product-image\"])[1]` <br>\n"
   ]
  },
  {
   "cell_type": "markdown",
   "metadata": {},
   "source": [
    "# "
   ]
  },
  {
   "cell_type": "markdown",
   "metadata": {},
   "source": [
    "## Absolute and Relative Path"
   ]
  },
  {
   "cell_type": "markdown",
   "metadata": {},
   "source": [
    "**Absolute**: This is when we ***don't use*** the `//` in the syntax. \n",
    "    \n",
    "    As the name suggests here, we have the most \"accurate target\" element as we are targetting\n",
    "    the element from the scratch.\n",
    "    \n",
    "    Example:\n",
    "    ———————\n",
    "    html/body/div[2]/span[3]/p\n",
    "    \n",
    "    Now, obviously we need to see and do this as per the structure and probably this one can be\n",
    "    proven as the faster method to lookup for an element than the \"relative\".\n",
    "    \n",
    "Syntax for absolute: `parent/child/.../target`\n",
    "\n",
    "**Pro Tip:** Don't be a person of doing the shitty work. Use click the tag, right click and click \"Copy Full Xpath\". Obviously that is the same. Just not manual and saves time."
   ]
  },
  {
   "cell_type": "markdown",
   "metadata": {},
   "source": [
    "___"
   ]
  },
  {
   "cell_type": "markdown",
   "metadata": {},
   "source": [
    "**Relative**: Here we ***do use*** the `//` signs.\n",
    "    \n",
    "    It finds the element. No matter where it is. We just have to give the proper name.\n",
    "    \n",
    "    Example: (we have seen before)\n",
    "    ———————\n",
    "    //h1[id=\"header\"]"
   ]
  },
  {
   "cell_type": "markdown",
   "metadata": {},
   "source": [
    "# "
   ]
  },
  {
   "cell_type": "markdown",
   "metadata": {},
   "source": [
    "### Usually...\n",
    "We are used to use both of the types **together**. Means, in single syntax we can use them both.\n",
    "\n",
    "Example:<br>\n",
    "`//div[class=\"image\"]/div/span[1]//a[class=\"get-reference\"]`\n",
    "\n",
    "See? Simple. "
   ]
  },
  {
   "cell_type": "markdown",
   "metadata": {},
   "source": [
    "# "
   ]
  },
  {
   "cell_type": "markdown",
   "metadata": {},
   "source": [
    "# Things are going smoothly\n",
    "Next up, a little bit of \"new\" things will come. They deserve a special mention, so have made a seperate file. See you there."
   ]
  }
 ],
 "metadata": {
  "kernelspec": {
   "display_name": "Python 3",
   "language": "python",
   "name": "python3"
  },
  "language_info": {
   "codemirror_mode": {
    "name": "ipython",
    "version": 3
   },
   "file_extension": ".py",
   "mimetype": "text/x-python",
   "name": "python",
   "nbconvert_exporter": "python",
   "pygments_lexer": "ipython3",
   "version": "3.8.5"
  }
 },
 "nbformat": 4,
 "nbformat_minor": 4
}
