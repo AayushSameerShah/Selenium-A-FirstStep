{
 "cells": [
  {
   "cell_type": "markdown",
   "id": "eb69b3a7-c287-4b94-a3ed-274c704eb10c",
   "metadata": {},
   "source": [
    "# Project 2\n",
    "This will also be an exciting project, here we will **scrap the table, to make a table**. So, let's go. <br>\n",
    "Here is the [link](https://pokemondb.net/pokedex/all)"
   ]
  },
  {
   "cell_type": "markdown",
   "id": "b94d6854-43d4-42d7-b462-5283ab5d0f51",
   "metadata": {},
   "source": [
    "# "
   ]
  },
  {
   "cell_type": "code",
   "execution_count": 3,
   "id": "9bb8ec5c-da25-4747-9d40-c2b9b4032738",
   "metadata": {},
   "outputs": [],
   "source": [
    "from selenium import webdriver\n",
    "import pandas as pd\n",
    "import numpy as np\n",
    "import time\n",
    "import warnings\n",
    "\n",
    "warnings.filterwarnings(\"ignore\")"
   ]
  },
  {
   "cell_type": "code",
   "execution_count": 11,
   "id": "e37ce454-daa0-42f9-9ec2-ba7700a77b2d",
   "metadata": {},
   "outputs": [],
   "source": [
    "site = \"https://pokemondb.net/pokedex/all\"\n",
    "driver = webdriver.Edge(\"C:/WebDrivers/msedgedriver.exe\")\n",
    "driver.get(site)"
   ]
  },
  {
   "cell_type": "markdown",
   "id": "15c28285-a061-4e6d-a012-c3810439d621",
   "metadata": {},
   "source": [
    "# "
   ]
  },
  {
   "cell_type": "markdown",
   "id": "89baf7a3-225c-40b5-95ba-8d37826d9caf",
   "metadata": {},
   "source": [
    "### Clicking on the Cookies button"
   ]
  },
  {
   "cell_type": "code",
   "execution_count": 12,
   "id": "72ec1192-e0cf-4907-be3b-13cf51d737f1",
   "metadata": {},
   "outputs": [],
   "source": [
    "time.sleep(2)\n",
    "button = driver.find_element_by_xpath('//div[@id=\"gdpr-confirm\"]/div/div/p[2]/button')\n",
    "button.click()"
   ]
  },
  {
   "cell_type": "markdown",
   "id": "c024f4e6-0f05-46f8-89a9-bc7fd08e6700",
   "metadata": {},
   "source": [
    "### "
   ]
  },
  {
   "cell_type": "markdown",
   "id": "741c5a2b-8bfd-45ba-a7d3-d9b25c0b6d8c",
   "metadata": {},
   "source": [
    "### Table!"
   ]
  },
  {
   "cell_type": "code",
   "execution_count": 13,
   "id": "a7f13c5d-be5e-47af-8534-439a3de88e51",
   "metadata": {},
   "outputs": [],
   "source": [
    "table = driver.find_element_by_id('pokedex')"
   ]
  },
  {
   "cell_type": "code",
   "execution_count": 27,
   "id": "35fad312-dad3-4287-9150-e7df24ff9959",
   "metadata": {},
   "outputs": [
    {
     "data": {
      "text/plain": [
       "['#',\n",
       " 'Name',\n",
       " 'Type',\n",
       " 'Total',\n",
       " 'HP',\n",
       " 'Attack',\n",
       " 'Defense',\n",
       " 'Sp. Atk',\n",
       " 'Sp. Def',\n",
       " 'Speed']"
      ]
     },
     "execution_count": 27,
     "metadata": {},
     "output_type": "execute_result"
    }
   ],
   "source": [
    "table_headers = table.find_element_by_xpath(\"thead/tr\").text\n",
    "table_headers = table_headers.split(\"\\n\")\n",
    "table_headers"
   ]
  },
  {
   "cell_type": "code",
   "execution_count": 28,
   "id": "98c72c21-8be4-4220-94da-fa7188b7a08d",
   "metadata": {},
   "outputs": [],
   "source": [
    "rows = table.find_elements_by_xpath(\"tbody/tr\")"
   ]
  },
  {
   "cell_type": "code",
   "execution_count": 29,
   "id": "01fba511-d818-47b2-8917-3685edcd9e2d",
   "metadata": {},
   "outputs": [
    {
     "data": {
      "text/plain": [
       "1047"
      ]
     },
     "execution_count": 29,
     "metadata": {},
     "output_type": "execute_result"
    }
   ],
   "source": [
    "len(rows)"
   ]
  },
  {
   "cell_type": "markdown",
   "id": "a543e747-d68b-4a30-81d8-19a6d1e6db0e",
   "metadata": {},
   "source": [
    "There are `1047` rows to be scrapped... let's do it."
   ]
  },
  {
   "cell_type": "code",
   "execution_count": 33,
   "id": "72b43c54-fd1b-4496-b908-5dd91498beaf",
   "metadata": {},
   "outputs": [
    {
     "data": {
      "text/plain": [
       "10"
      ]
     },
     "execution_count": 33,
     "metadata": {},
     "output_type": "execute_result"
    }
   ],
   "source": [
    "len(rows[0].find_elements_by_xpath(\"td\"))"
   ]
  },
  {
   "cell_type": "markdown",
   "id": "2edc86e7-2d8c-4cb8-b7bf-ff280b86ea28",
   "metadata": {},
   "source": [
    "Which means, there are `10` columns on each row."
   ]
  },
  {
   "cell_type": "code",
   "execution_count": 37,
   "id": "29c0a097-3343-4b66-b131-b4221e7b9050",
   "metadata": {},
   "outputs": [],
   "source": [
    "# Doing them in bulk\n",
    "all_data = []\n",
    "for row in rows:\n",
    "    data = list(map(lambda x:x.text, row.find_elements_by_xpath(\"td\")))\n",
    "    all_data.append(data)"
   ]
  },
  {
   "cell_type": "code",
   "execution_count": 38,
   "id": "d58e7f5e-c71a-43fc-a084-e32be4b6ca66",
   "metadata": {},
   "outputs": [
    {
     "data": {
      "text/html": [
       "<div>\n",
       "<style scoped>\n",
       "    .dataframe tbody tr th:only-of-type {\n",
       "        vertical-align: middle;\n",
       "    }\n",
       "\n",
       "    .dataframe tbody tr th {\n",
       "        vertical-align: top;\n",
       "    }\n",
       "\n",
       "    .dataframe thead th {\n",
       "        text-align: right;\n",
       "    }\n",
       "</style>\n",
       "<table border=\"1\" class=\"dataframe\">\n",
       "  <thead>\n",
       "    <tr style=\"text-align: right;\">\n",
       "      <th></th>\n",
       "      <th>#</th>\n",
       "      <th>Name</th>\n",
       "      <th>Type</th>\n",
       "      <th>Total</th>\n",
       "      <th>HP</th>\n",
       "      <th>Attack</th>\n",
       "      <th>Defense</th>\n",
       "      <th>Sp. Atk</th>\n",
       "      <th>Sp. Def</th>\n",
       "      <th>Speed</th>\n",
       "    </tr>\n",
       "  </thead>\n",
       "  <tbody>\n",
       "    <tr>\n",
       "      <th>0</th>\n",
       "      <td>001</td>\n",
       "      <td>Bulbasaur</td>\n",
       "      <td>GRASS\\nPOISON</td>\n",
       "      <td>318</td>\n",
       "      <td>45</td>\n",
       "      <td>49</td>\n",
       "      <td>49</td>\n",
       "      <td>65</td>\n",
       "      <td>65</td>\n",
       "      <td>45</td>\n",
       "    </tr>\n",
       "    <tr>\n",
       "      <th>1</th>\n",
       "      <td>002</td>\n",
       "      <td>Ivysaur</td>\n",
       "      <td>GRASS\\nPOISON</td>\n",
       "      <td>405</td>\n",
       "      <td>60</td>\n",
       "      <td>62</td>\n",
       "      <td>63</td>\n",
       "      <td>80</td>\n",
       "      <td>80</td>\n",
       "      <td>60</td>\n",
       "    </tr>\n",
       "    <tr>\n",
       "      <th>2</th>\n",
       "      <td>003</td>\n",
       "      <td>Venusaur</td>\n",
       "      <td>GRASS\\nPOISON</td>\n",
       "      <td>525</td>\n",
       "      <td>80</td>\n",
       "      <td>82</td>\n",
       "      <td>83</td>\n",
       "      <td>100</td>\n",
       "      <td>100</td>\n",
       "      <td>80</td>\n",
       "    </tr>\n",
       "    <tr>\n",
       "      <th>3</th>\n",
       "      <td>003</td>\n",
       "      <td>Venusaur\\nMega Venusaur</td>\n",
       "      <td>GRASS\\nPOISON</td>\n",
       "      <td>625</td>\n",
       "      <td>80</td>\n",
       "      <td>100</td>\n",
       "      <td>123</td>\n",
       "      <td>122</td>\n",
       "      <td>120</td>\n",
       "      <td>80</td>\n",
       "    </tr>\n",
       "    <tr>\n",
       "      <th>4</th>\n",
       "      <td>004</td>\n",
       "      <td>Charmander</td>\n",
       "      <td>FIRE</td>\n",
       "      <td>309</td>\n",
       "      <td>39</td>\n",
       "      <td>52</td>\n",
       "      <td>43</td>\n",
       "      <td>60</td>\n",
       "      <td>50</td>\n",
       "      <td>65</td>\n",
       "    </tr>\n",
       "    <tr>\n",
       "      <th>...</th>\n",
       "      <td>...</td>\n",
       "      <td>...</td>\n",
       "      <td>...</td>\n",
       "      <td>...</td>\n",
       "      <td>...</td>\n",
       "      <td>...</td>\n",
       "      <td>...</td>\n",
       "      <td>...</td>\n",
       "      <td>...</td>\n",
       "      <td>...</td>\n",
       "    </tr>\n",
       "    <tr>\n",
       "      <th>1042</th>\n",
       "      <td>896</td>\n",
       "      <td>Glastrier</td>\n",
       "      <td>ICE</td>\n",
       "      <td>580</td>\n",
       "      <td>100</td>\n",
       "      <td>145</td>\n",
       "      <td>130</td>\n",
       "      <td>65</td>\n",
       "      <td>110</td>\n",
       "      <td>30</td>\n",
       "    </tr>\n",
       "    <tr>\n",
       "      <th>1043</th>\n",
       "      <td>897</td>\n",
       "      <td>Spectrier</td>\n",
       "      <td>GHOST</td>\n",
       "      <td>580</td>\n",
       "      <td>100</td>\n",
       "      <td>65</td>\n",
       "      <td>60</td>\n",
       "      <td>145</td>\n",
       "      <td>80</td>\n",
       "      <td>130</td>\n",
       "    </tr>\n",
       "    <tr>\n",
       "      <th>1044</th>\n",
       "      <td>898</td>\n",
       "      <td>Calyrex</td>\n",
       "      <td>PSYCHIC\\nGRASS</td>\n",
       "      <td>500</td>\n",
       "      <td>100</td>\n",
       "      <td>80</td>\n",
       "      <td>80</td>\n",
       "      <td>80</td>\n",
       "      <td>80</td>\n",
       "      <td>80</td>\n",
       "    </tr>\n",
       "    <tr>\n",
       "      <th>1045</th>\n",
       "      <td>898</td>\n",
       "      <td>Calyrex\\nIce Rider</td>\n",
       "      <td>PSYCHIC\\nICE</td>\n",
       "      <td>680</td>\n",
       "      <td>100</td>\n",
       "      <td>165</td>\n",
       "      <td>150</td>\n",
       "      <td>85</td>\n",
       "      <td>130</td>\n",
       "      <td>50</td>\n",
       "    </tr>\n",
       "    <tr>\n",
       "      <th>1046</th>\n",
       "      <td>898</td>\n",
       "      <td>Calyrex\\nShadow Rider</td>\n",
       "      <td>PSYCHIC\\nGHOST</td>\n",
       "      <td>680</td>\n",
       "      <td>100</td>\n",
       "      <td>85</td>\n",
       "      <td>80</td>\n",
       "      <td>165</td>\n",
       "      <td>100</td>\n",
       "      <td>150</td>\n",
       "    </tr>\n",
       "  </tbody>\n",
       "</table>\n",
       "<p>1047 rows × 10 columns</p>\n",
       "</div>"
      ],
      "text/plain": [
       "        #                     Name            Type Total   HP Attack Defense  \\\n",
       "0     001                Bulbasaur   GRASS\\nPOISON   318   45     49      49   \n",
       "1     002                  Ivysaur   GRASS\\nPOISON   405   60     62      63   \n",
       "2     003                 Venusaur   GRASS\\nPOISON   525   80     82      83   \n",
       "3     003  Venusaur\\nMega Venusaur   GRASS\\nPOISON   625   80    100     123   \n",
       "4     004               Charmander            FIRE   309   39     52      43   \n",
       "...   ...                      ...             ...   ...  ...    ...     ...   \n",
       "1042  896                Glastrier             ICE   580  100    145     130   \n",
       "1043  897                Spectrier           GHOST   580  100     65      60   \n",
       "1044  898                  Calyrex  PSYCHIC\\nGRASS   500  100     80      80   \n",
       "1045  898       Calyrex\\nIce Rider    PSYCHIC\\nICE   680  100    165     150   \n",
       "1046  898    Calyrex\\nShadow Rider  PSYCHIC\\nGHOST   680  100     85      80   \n",
       "\n",
       "     Sp. Atk Sp. Def Speed  \n",
       "0         65      65    45  \n",
       "1         80      80    60  \n",
       "2        100     100    80  \n",
       "3        122     120    80  \n",
       "4         60      50    65  \n",
       "...      ...     ...   ...  \n",
       "1042      65     110    30  \n",
       "1043     145      80   130  \n",
       "1044      80      80    80  \n",
       "1045      85     130    50  \n",
       "1046     165     100   150  \n",
       "\n",
       "[1047 rows x 10 columns]"
      ]
     },
     "execution_count": 38,
     "metadata": {},
     "output_type": "execute_result"
    }
   ],
   "source": [
    "df = pd.DataFrame(all_data, columns=table_headers)\n",
    "df"
   ]
  },
  {
   "cell_type": "code",
   "execution_count": 39,
   "id": "198cce68-1f4b-48a9-82cb-dffe457d2780",
   "metadata": {},
   "outputs": [],
   "source": [
    "driver.close()"
   ]
  },
  {
   "cell_type": "markdown",
   "id": "9b0a1e97-bbe2-46ec-8f8f-a13b231b5af3",
   "metadata": {},
   "source": [
    "### Cool! \n",
    "Now, we have the data... so let's clean it a bit and make it more analyzable."
   ]
  },
  {
   "cell_type": "code",
   "execution_count": 45,
   "id": "9f6fdeb5-4ed1-4e90-92af-e6dcb312f369",
   "metadata": {},
   "outputs": [],
   "source": [
    "df[\"Type\"] = df[\"Type\"].apply(lambda x:\", \".join(x.split(\"\\n\")))"
   ]
  },
  {
   "cell_type": "code",
   "execution_count": 50,
   "id": "5b75cbd4-ce6b-484a-8fff-ff2022d25b67",
   "metadata": {},
   "outputs": [],
   "source": [
    "df[\"Total\"] = df[\"Total\"].astype(int)\n",
    "df[\"HP\"] = df[\"HP\"].astype(int)\n",
    "df[\"Attack\"] = df[\"Attack\"].astype(int)\n",
    "df[\"Defense\"] = df[\"Defense\"].astype(int)\n",
    "df[\"Sp. Atk\"] = df[\"Sp. Atk\"].astype(int)\n",
    "df[\"Sp. Def\"] = df[\"Sp. Def\"].astype(int)\n",
    "df[\"Speed\"] = df[\"Speed\"].astype(int)"
   ]
  },
  {
   "cell_type": "code",
   "execution_count": 57,
   "id": "0cc2e4d5-45f9-49bd-979e-3df80740c45e",
   "metadata": {},
   "outputs": [],
   "source": [
    "def alt_name(name):\n",
    "    names = name.split(\"\\n\")\n",
    "    if len(names) > 1:\n",
    "        return names[0] + \" (\" + names[1] + \")\"\n",
    "    return name"
   ]
  },
  {
   "cell_type": "code",
   "execution_count": 59,
   "id": "fa043275-9d13-4b9d-bc8f-8e0b1e600892",
   "metadata": {},
   "outputs": [],
   "source": [
    "df[\"Name\"] = df[\"Name\"].apply(alt_name)"
   ]
  },
  {
   "cell_type": "markdown",
   "id": "52b4a8b7-a96d-40cb-93e1-08a9375bc978",
   "metadata": {},
   "source": [
    "# Finally"
   ]
  },
  {
   "cell_type": "code",
   "execution_count": 62,
   "id": "554135cb-5817-4879-b93c-2cc7f8b01b4f",
   "metadata": {},
   "outputs": [
    {
     "data": {
      "text/html": [
       "<div>\n",
       "<style scoped>\n",
       "    .dataframe tbody tr th:only-of-type {\n",
       "        vertical-align: middle;\n",
       "    }\n",
       "\n",
       "    .dataframe tbody tr th {\n",
       "        vertical-align: top;\n",
       "    }\n",
       "\n",
       "    .dataframe thead th {\n",
       "        text-align: right;\n",
       "    }\n",
       "</style>\n",
       "<table border=\"1\" class=\"dataframe\">\n",
       "  <thead>\n",
       "    <tr style=\"text-align: right;\">\n",
       "      <th></th>\n",
       "      <th>#</th>\n",
       "      <th>Name</th>\n",
       "      <th>Type</th>\n",
       "      <th>Total</th>\n",
       "      <th>HP</th>\n",
       "      <th>Attack</th>\n",
       "      <th>Defense</th>\n",
       "      <th>Sp. Atk</th>\n",
       "      <th>Sp. Def</th>\n",
       "      <th>Speed</th>\n",
       "    </tr>\n",
       "  </thead>\n",
       "  <tbody>\n",
       "    <tr>\n",
       "      <th>0</th>\n",
       "      <td>001</td>\n",
       "      <td>Bulbasaur</td>\n",
       "      <td>GRASS, POISON</td>\n",
       "      <td>318</td>\n",
       "      <td>45</td>\n",
       "      <td>49</td>\n",
       "      <td>49</td>\n",
       "      <td>65</td>\n",
       "      <td>65</td>\n",
       "      <td>45</td>\n",
       "    </tr>\n",
       "    <tr>\n",
       "      <th>1</th>\n",
       "      <td>002</td>\n",
       "      <td>Ivysaur</td>\n",
       "      <td>GRASS, POISON</td>\n",
       "      <td>405</td>\n",
       "      <td>60</td>\n",
       "      <td>62</td>\n",
       "      <td>63</td>\n",
       "      <td>80</td>\n",
       "      <td>80</td>\n",
       "      <td>60</td>\n",
       "    </tr>\n",
       "    <tr>\n",
       "      <th>2</th>\n",
       "      <td>003</td>\n",
       "      <td>Venusaur</td>\n",
       "      <td>GRASS, POISON</td>\n",
       "      <td>525</td>\n",
       "      <td>80</td>\n",
       "      <td>82</td>\n",
       "      <td>83</td>\n",
       "      <td>100</td>\n",
       "      <td>100</td>\n",
       "      <td>80</td>\n",
       "    </tr>\n",
       "    <tr>\n",
       "      <th>3</th>\n",
       "      <td>003</td>\n",
       "      <td>Venusaur (Mega Venusaur)</td>\n",
       "      <td>GRASS, POISON</td>\n",
       "      <td>625</td>\n",
       "      <td>80</td>\n",
       "      <td>100</td>\n",
       "      <td>123</td>\n",
       "      <td>122</td>\n",
       "      <td>120</td>\n",
       "      <td>80</td>\n",
       "    </tr>\n",
       "    <tr>\n",
       "      <th>4</th>\n",
       "      <td>004</td>\n",
       "      <td>Charmander</td>\n",
       "      <td>FIRE</td>\n",
       "      <td>309</td>\n",
       "      <td>39</td>\n",
       "      <td>52</td>\n",
       "      <td>43</td>\n",
       "      <td>60</td>\n",
       "      <td>50</td>\n",
       "      <td>65</td>\n",
       "    </tr>\n",
       "    <tr>\n",
       "      <th>...</th>\n",
       "      <td>...</td>\n",
       "      <td>...</td>\n",
       "      <td>...</td>\n",
       "      <td>...</td>\n",
       "      <td>...</td>\n",
       "      <td>...</td>\n",
       "      <td>...</td>\n",
       "      <td>...</td>\n",
       "      <td>...</td>\n",
       "      <td>...</td>\n",
       "    </tr>\n",
       "    <tr>\n",
       "      <th>1042</th>\n",
       "      <td>896</td>\n",
       "      <td>Glastrier</td>\n",
       "      <td>ICE</td>\n",
       "      <td>580</td>\n",
       "      <td>100</td>\n",
       "      <td>145</td>\n",
       "      <td>130</td>\n",
       "      <td>65</td>\n",
       "      <td>110</td>\n",
       "      <td>30</td>\n",
       "    </tr>\n",
       "    <tr>\n",
       "      <th>1043</th>\n",
       "      <td>897</td>\n",
       "      <td>Spectrier</td>\n",
       "      <td>GHOST</td>\n",
       "      <td>580</td>\n",
       "      <td>100</td>\n",
       "      <td>65</td>\n",
       "      <td>60</td>\n",
       "      <td>145</td>\n",
       "      <td>80</td>\n",
       "      <td>130</td>\n",
       "    </tr>\n",
       "    <tr>\n",
       "      <th>1044</th>\n",
       "      <td>898</td>\n",
       "      <td>Calyrex</td>\n",
       "      <td>PSYCHIC, GRASS</td>\n",
       "      <td>500</td>\n",
       "      <td>100</td>\n",
       "      <td>80</td>\n",
       "      <td>80</td>\n",
       "      <td>80</td>\n",
       "      <td>80</td>\n",
       "      <td>80</td>\n",
       "    </tr>\n",
       "    <tr>\n",
       "      <th>1045</th>\n",
       "      <td>898</td>\n",
       "      <td>Calyrex (Ice Rider)</td>\n",
       "      <td>PSYCHIC, ICE</td>\n",
       "      <td>680</td>\n",
       "      <td>100</td>\n",
       "      <td>165</td>\n",
       "      <td>150</td>\n",
       "      <td>85</td>\n",
       "      <td>130</td>\n",
       "      <td>50</td>\n",
       "    </tr>\n",
       "    <tr>\n",
       "      <th>1046</th>\n",
       "      <td>898</td>\n",
       "      <td>Calyrex (Shadow Rider)</td>\n",
       "      <td>PSYCHIC, GHOST</td>\n",
       "      <td>680</td>\n",
       "      <td>100</td>\n",
       "      <td>85</td>\n",
       "      <td>80</td>\n",
       "      <td>165</td>\n",
       "      <td>100</td>\n",
       "      <td>150</td>\n",
       "    </tr>\n",
       "  </tbody>\n",
       "</table>\n",
       "<p>1047 rows × 10 columns</p>\n",
       "</div>"
      ],
      "text/plain": [
       "        #                      Name            Type  Total   HP  Attack  \\\n",
       "0     001                 Bulbasaur   GRASS, POISON    318   45      49   \n",
       "1     002                   Ivysaur   GRASS, POISON    405   60      62   \n",
       "2     003                  Venusaur   GRASS, POISON    525   80      82   \n",
       "3     003  Venusaur (Mega Venusaur)   GRASS, POISON    625   80     100   \n",
       "4     004                Charmander            FIRE    309   39      52   \n",
       "...   ...                       ...             ...    ...  ...     ...   \n",
       "1042  896                 Glastrier             ICE    580  100     145   \n",
       "1043  897                 Spectrier           GHOST    580  100      65   \n",
       "1044  898                   Calyrex  PSYCHIC, GRASS    500  100      80   \n",
       "1045  898       Calyrex (Ice Rider)    PSYCHIC, ICE    680  100     165   \n",
       "1046  898    Calyrex (Shadow Rider)  PSYCHIC, GHOST    680  100      85   \n",
       "\n",
       "      Defense  Sp. Atk  Sp. Def  Speed  \n",
       "0          49       65       65     45  \n",
       "1          63       80       80     60  \n",
       "2          83      100      100     80  \n",
       "3         123      122      120     80  \n",
       "4          43       60       50     65  \n",
       "...       ...      ...      ...    ...  \n",
       "1042      130       65      110     30  \n",
       "1043       60      145       80    130  \n",
       "1044       80       80       80     80  \n",
       "1045      150       85      130     50  \n",
       "1046       80      165      100    150  \n",
       "\n",
       "[1047 rows x 10 columns]"
      ]
     },
     "execution_count": 62,
     "metadata": {},
     "output_type": "execute_result"
    }
   ],
   "source": [
    "df"
   ]
  },
  {
   "cell_type": "code",
   "execution_count": 63,
   "id": "42b16cfe-12f2-4176-b3c7-d509e32b4f76",
   "metadata": {},
   "outputs": [],
   "source": [
    "df.to_csv(\"pokemon_scraped_data.csv\", index=False)"
   ]
  },
  {
   "cell_type": "markdown",
   "id": "7861af35-7d3e-4984-9429-53c83461a208",
   "metadata": {},
   "source": [
    "# Done?\n",
    "Yeah!! We are done with this basic course and also the project! \n",
    "\n",
    "**Things learnt:**\n",
    "- A great flexibility by using Xpath\n",
    "- Using selenium for **a real** kind of automation\n",
    "- Knew that \"we can click\" without clicking!\n",
    "- Grisp on selenium and syntax\n",
    "\n",
    "Yeah! So I will see you Aayush in the next amazing course!"
   ]
  }
 ],
 "metadata": {
  "kernelspec": {
   "display_name": "Python 3 (ipykernel)",
   "language": "python",
   "name": "python3"
  },
  "language_info": {
   "codemirror_mode": {
    "name": "ipython",
    "version": 3
   },
   "file_extension": ".py",
   "mimetype": "text/x-python",
   "name": "python",
   "nbconvert_exporter": "python",
   "pygments_lexer": "ipython3",
   "version": "3.9.7"
  }
 },
 "nbformat": 4,
 "nbformat_minor": 5
}
