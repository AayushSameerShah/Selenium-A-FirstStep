{
 "cells": [
  {
   "cell_type": "markdown",
   "id": "69fbc387-03e7-4066-b4e7-a1fc3d071dfc",
   "metadata": {},
   "source": [
    "# Show me your face..."
   ]
  },
  {
   "cell_type": "markdown",
   "id": "746e57bd-4385-433a-beb6-e9562640e1d7",
   "metadata": {},
   "source": [
    "We need to use 2 things to get things going...\n",
    "1. WebDriver\n",
    "2. Selenium as a library\n",
    "\n",
    "After downloading both of them... let's we are ready for the MOVE!"
   ]
  },
  {
   "cell_type": "code",
   "execution_count": 23,
   "id": "880d4c9a-9741-4f08-b7ec-0187b7bf41ca",
   "metadata": {},
   "outputs": [],
   "source": [
    "# Usual imports for selenium automation\n",
    "from selenium import webdriver\n",
    "from selenium.webdriver.common.keys import Keys\n",
    "from selenium.webdriver.common.by import By\n",
    "from selenium.webdriver.edge.options import Options \n",
    "# ↑ Depends on which browser you will be using for the automation\n",
    "# | according to your webdriver downloaded.\n",
    "\n",
    "import time\n",
    "import warnings\n",
    "warnings.filterwarnings(\"ignore\")"
   ]
  },
  {
   "cell_type": "code",
   "execution_count": 9,
   "id": "6953bd18-8268-4bff-b3e5-029bd5343556",
   "metadata": {},
   "outputs": [],
   "source": [
    "site = \"https://www.olx.com\""
   ]
  },
  {
   "cell_type": "code",
   "execution_count": null,
   "id": "b2d9b25a-17d7-4a9a-b224-ca3fd03e62ad",
   "metadata": {},
   "outputs": [],
   "source": [
    "# Initialize browser                     ↓ Downloaded in your system\n",
    "driver = webdriver.Edge(r\"C:/WebDrivers/msedgedriver.exe\")"
   ]
  },
  {
   "cell_type": "markdown",
   "id": "1d021320-00b2-4da5-95a5-b2ef7a80d461",
   "metadata": {},
   "source": [
    "As soon as you run the code above ↑ it will create a new window of the browser and show like this ↓\n",
    "\n",
    "<img src=\"../reference_images/controlled.png\" height=250 width=500>"
   ]
  },
  {
   "cell_type": "markdown",
   "id": "4133ae01-2ae5-46ac-9b06-74ea10b125a0",
   "metadata": {},
   "source": [
    "###### "
   ]
  },
  {
   "cell_type": "markdown",
   "id": "e0346b24-4fb2-4ce4-92c4-73676a96e3c4",
   "metadata": {},
   "source": [
    "#### Get the site"
   ]
  },
  {
   "cell_type": "code",
   "execution_count": 26,
   "id": "5f8b16b2-d96e-48e3-9572-fb26ad6d71a7",
   "metadata": {},
   "outputs": [],
   "source": [
    "# Reach to the website — RUN TOGETHER driver + reach site\n",
    "driver = webdriver.Edge(r\"C:/WebDrivers/msedgedriver.exe\")\n",
    "driver.get(site)"
   ]
  },
  {
   "cell_type": "markdown",
   "id": "d04578cc-0dfb-4b7c-8cb9-c4c76cf88e86",
   "metadata": {},
   "source": [
    "↑ That will simply open the site in the \"NEW WINDOW\" of the edge."
   ]
  },
  {
   "cell_type": "markdown",
   "id": "98a690e6-a963-4e47-8d86-6fec0e11149a",
   "metadata": {},
   "source": [
    "#### "
   ]
  },
  {
   "cell_type": "markdown",
   "id": "ff43ee25-ccd8-4a19-a640-ad0379362a70",
   "metadata": {},
   "source": [
    "#### Get the site and then specific element"
   ]
  },
  {
   "cell_type": "markdown",
   "id": "3a696ba2-d190-4982-abd1-54708bb3a945",
   "metadata": {},
   "source": [
    "Listen, in the **actual** scenario we will be having the \"Script\" which will execute the stuff at once unlike this jupyter book. So for the sake of this learning... we will be copying the code and run from there."
   ]
  },
  {
   "cell_type": "code",
   "execution_count": 27,
   "id": "49815a27-649e-46bc-a716-b5b482ad0a37",
   "metadata": {},
   "outputs": [],
   "source": [
    "# Reach to the website + Get Element\n",
    "driver = webdriver.Edge(r\"C:/WebDrivers/msedgedriver.exe\")\n",
    "driver.get(site)"
   ]
  },
  {
   "cell_type": "code",
   "execution_count": 28,
   "id": "978432a1-fc0b-4784-bf77-0feb770c77e1",
   "metadata": {},
   "outputs": [],
   "source": [
    "price = driver.find_element_by_xpath('(//ul[@class=\"rl3f9 AueO0\"]/li/a/div/span[1])[1]')"
   ]
  },
  {
   "cell_type": "code",
   "execution_count": 29,
   "id": "d042b6fa-9b98-4227-a85e-7a4bdc734e8b",
   "metadata": {},
   "outputs": [
    {
     "data": {
      "text/plain": [
       "'₹ 6,61,000'"
      ]
     },
     "execution_count": 29,
     "metadata": {},
     "output_type": "execute_result"
    }
   ],
   "source": [
    "price.text"
   ]
  },
  {
   "cell_type": "markdown",
   "id": "557c7fb7-7086-476c-991b-e091f817ce5d",
   "metadata": {},
   "source": [
    "See there, we are using the ↓\n",
    "```python\n",
    "driver.find_element_by_xpath(xpath)\n",
    "```\n",
    "Which is like the `.find` in beautiful soup. *(and for that reason I have selected the specific span by using `(...)[1]`)*"
   ]
  },
  {
   "cell_type": "markdown",
   "id": "6f9fe54f-5908-4742-8c4a-ca116128999d",
   "metadata": {},
   "source": [
    "# "
   ]
  },
  {
   "cell_type": "markdown",
   "id": "f632eda0-8df4-4a3d-a3d9-124075f97f97",
   "metadata": {},
   "source": [
    "#### Get all prices"
   ]
  },
  {
   "cell_type": "code",
   "execution_count": 31,
   "id": "f1847d25-5494-4847-ba90-22db171c3b8a",
   "metadata": {},
   "outputs": [],
   "source": [
    "prices = driver.find_elements_by_xpath('//ul[@class=\"rl3f9 AueO0\"]/li/a/div/span[1]')"
   ]
  },
  {
   "cell_type": "code",
   "execution_count": 33,
   "id": "3ecf9c0b-e5cb-488a-95f0-b16c805ac779",
   "metadata": {},
   "outputs": [
    {
     "data": {
      "text/plain": [
       "20"
      ]
     },
     "execution_count": 33,
     "metadata": {},
     "output_type": "execute_result"
    }
   ],
   "source": [
    "len(prices)"
   ]
  },
  {
   "cell_type": "code",
   "execution_count": 37,
   "id": "45234db1-7ca5-45f1-a0b4-7ac08635fcae",
   "metadata": {},
   "outputs": [
    {
     "name": "stdout",
     "output_type": "stream",
     "text": [
      "₹ 5,15,000\n",
      "₹ 5,50,000\n",
      "₹ 22,999\n",
      "₹ 7,499\n",
      "₹ 1,000\n",
      "₹ 13,500\n",
      "₹ 3,299\n",
      "₹ 3,700\n",
      "₹ 1,900\n",
      "₹ 499\n",
      "₹ 599\n",
      "₹ 4,600\n",
      "₹ 2,500\n",
      "₹ 3,500\n",
      "₹ 2,500\n",
      "₹ 6,999\n",
      "₹ 3,199\n",
      "₹ 600\n",
      "₹ 5,25,000\n",
      "₹ 2,95,000\n"
     ]
    }
   ],
   "source": [
    "for prc in prices:\n",
    "    print(prc.text)"
   ]
  },
  {
   "cell_type": "markdown",
   "id": "7104ac25-6df6-4216-88de-3f7b72ef44f0",
   "metadata": {},
   "source": [
    "See there, we are using the ↓\n",
    "```python\n",
    "driver.find_elements_by_xpath(xpath)\n",
    "```\n",
    "Which is like the `.find_all` in beautiful soup."
   ]
  },
  {
   "cell_type": "markdown",
   "id": "38b2bc4c-f4f5-49c1-876b-352b3cfea600",
   "metadata": {},
   "source": [
    "# "
   ]
  },
  {
   "cell_type": "markdown",
   "id": "21eafc07-d5bd-4606-92ed-e5d344b99555",
   "metadata": {},
   "source": [
    "# Great Great!\n",
    "Next up, we will see other ways to locate elements (tags) instead of Xpath."
   ]
  }
 ],
 "metadata": {
  "kernelspec": {
   "display_name": "Python 3 (ipykernel)",
   "language": "python",
   "name": "python3"
  },
  "language_info": {
   "codemirror_mode": {
    "name": "ipython",
    "version": 3
   },
   "file_extension": ".py",
   "mimetype": "text/x-python",
   "name": "python",
   "nbconvert_exporter": "python",
   "pygments_lexer": "ipython3",
   "version": "3.9.7"
  }
 },
 "nbformat": 4,
 "nbformat_minor": 5
}
