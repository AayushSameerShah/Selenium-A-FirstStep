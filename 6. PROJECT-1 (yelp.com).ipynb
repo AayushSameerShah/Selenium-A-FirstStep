{
 "cells": [
  {
   "cell_type": "markdown",
   "id": "3972a9c4-6e49-464d-a672-1a287e5ed0a1",
   "metadata": {},
   "source": [
    "# Project 1\n",
    "We will scrap things up from the [yelp.com](yelp.com) site"
   ]
  },
  {
   "cell_type": "markdown",
   "id": "99e8a403-f1cf-4da5-baf6-7b19585d9ba8",
   "metadata": {},
   "source": [
    "# "
   ]
  },
  {
   "cell_type": "markdown",
   "id": "15b4768b-8cac-4e3b-b04d-ee45dbcd08bd",
   "metadata": {},
   "source": [
    "### We will scrap the following\n",
    "1. Name\n",
    "2. Address\n",
    "4. Expertise\n",
    "5. Stars\n",
    "6. Rating count"
   ]
  },
  {
   "cell_type": "markdown",
   "id": "44637fcf-c344-44e9-9e1c-a1428a4fc4ff",
   "metadata": {},
   "source": [
    "We will scrap the \"Web Designers\" in London, which can be found in: [Link](https://www.yelp.com/search?find_desc=Web+Design&find_loc=London%2C+United+Kingdom)"
   ]
  },
  {
   "cell_type": "code",
   "execution_count": 1,
   "id": "29734b9f-e9d0-4cd4-9bdf-35a4adffc4ae",
   "metadata": {},
   "outputs": [],
   "source": [
    "from selenium import webdriver\n",
    "import time\n",
    "import warnings\n",
    "import numpy as np\n",
    "warnings.filterwarnings(\"ignore\")"
   ]
  },
  {
   "cell_type": "markdown",
   "id": "54ccc929-63f0-48c3-bfe5-1d9138761df9",
   "metadata": {},
   "source": [
    "### Open Simply"
   ]
  },
  {
   "cell_type": "code",
   "execution_count": 2,
   "id": "23aefcda-41d3-4ad4-b232-837e846980dc",
   "metadata": {},
   "outputs": [],
   "source": [
    "site = \"https://www.yelp.com/search?find_desc=Web+Design&find_loc=London%2C+United+Kingdom\"\n",
    "driver = webdriver.Edge(\"C:/WebDrivers/msedgedriver.exe\")\n",
    "driver.get(site)\n",
    "driver.maximize_window()"
   ]
  },
  {
   "cell_type": "markdown",
   "id": "f616c28d-7ff9-4eea-a892-2bd0ed6bde5f",
   "metadata": {},
   "source": [
    "### Grabbing Multiple Fields"
   ]
  },
  {
   "cell_type": "code",
   "execution_count": 3,
   "id": "71449146-c78c-405f-bb29-aad2672691f6",
   "metadata": {},
   "outputs": [],
   "source": [
    "cards = driver.find_elements_by_xpath('//main[@id=\"main-content\"]/div/ul/li/div/div/div/div[2]/div[1]/div')"
   ]
  },
  {
   "cell_type": "code",
   "execution_count": 4,
   "id": "8cfc6739-9096-4cb6-b092-6b417211d646",
   "metadata": {},
   "outputs": [
    {
     "data": {
      "text/plain": [
       "10"
      ]
     },
     "execution_count": 4,
     "metadata": {},
     "output_type": "execute_result"
    }
   ],
   "source": [
    "len(cards)"
   ]
  },
  {
   "cell_type": "markdown",
   "id": "4db19503-0c9a-40ba-95d6-b8347f4db184",
   "metadata": {},
   "source": [
    "#### Name, Rating, Expertise"
   ]
  },
  {
   "cell_type": "code",
   "execution_count": 35,
   "id": "ff3bb3c7-c537-40b7-98dd-6dfed972670b",
   "metadata": {},
   "outputs": [],
   "source": [
    "left = cards[0].find_element_by_xpath('div[1]//div[@class=\" border-color--default__09f24__NPAKY\"]')"
   ]
  },
  {
   "cell_type": "code",
   "execution_count": 36,
   "id": "4ae07723-0f44-4541-82f5-1f663c37618f",
   "metadata": {},
   "outputs": [
    {
     "data": {
      "text/plain": [
       "'Doublesided'"
      ]
     },
     "execution_count": 36,
     "metadata": {},
     "output_type": "execute_result"
    }
   ],
   "source": [
    "# Name\n",
    "left.find_element_by_xpath('div[1]/div/div//a').text"
   ]
  },
  {
   "cell_type": "code",
   "execution_count": 37,
   "id": "2c2a1c09-9f0f-4413-bb87-1ec1401a28ef",
   "metadata": {},
   "outputs": [
    {
     "data": {
      "text/plain": [
       "'5'"
      ]
     },
     "execution_count": 37,
     "metadata": {},
     "output_type": "execute_result"
    }
   ],
   "source": [
    "# Rating\n",
    "left.find_element_by_xpath('div[2]/div/div/div/span/div').get_attribute(\"aria-label\")[0]"
   ]
  },
  {
   "cell_type": "code",
   "execution_count": 38,
   "id": "a922e90d-a031-4c13-b0e8-e67cbe149406",
   "metadata": {},
   "outputs": [
    {
     "data": {
      "text/plain": [
       "'3'"
      ]
     },
     "execution_count": 38,
     "metadata": {},
     "output_type": "execute_result"
    }
   ],
   "source": [
    "# Rating count\n",
    "left.find_element_by_xpath('div[2]/div/div/div[2]').text"
   ]
  },
  {
   "cell_type": "code",
   "execution_count": 39,
   "id": "68b68716-fb08-4375-accc-01d964006122",
   "metadata": {},
   "outputs": [
    {
     "data": {
      "text/plain": [
       "'Web Design, Marketing'"
      ]
     },
     "execution_count": 39,
     "metadata": {},
     "output_type": "execute_result"
    }
   ],
   "source": [
    "# Expertise\n",
    "left.find_element_by_xpath('div[3]/div/div/div/p').text.strip()"
   ]
  },
  {
   "cell_type": "markdown",
   "id": "64ca59ee-d16e-4d25-abca-ee4f390c98bc",
   "metadata": {},
   "source": [
    "#### "
   ]
  },
  {
   "cell_type": "markdown",
   "id": "523756b3-6e00-463d-babe-f2a6bf1901d0",
   "metadata": {
    "tags": []
   },
   "source": [
    "#### Address"
   ]
  },
  {
   "cell_type": "code",
   "execution_count": 73,
   "id": "87008ddb-d157-4f36-8422-1ccf369f90e9",
   "metadata": {},
   "outputs": [
    {
     "data": {
      "text/plain": [
       "\"1 Pancras Square\\nKing's Cross\""
      ]
     },
     "execution_count": 73,
     "metadata": {},
     "output_type": "execute_result"
    }
   ],
   "source": [
    "cards[0].find_element_by_xpath('div[2]').text"
   ]
  },
  {
   "cell_type": "markdown",
   "id": "d5002d13-8fa1-44c5-81b1-6de5141f9750",
   "metadata": {},
   "source": [
    "#### "
   ]
  },
  {
   "cell_type": "markdown",
   "id": "34766b48-2a9f-4d22-9e5a-4e7a115e3967",
   "metadata": {},
   "source": [
    "## All Together"
   ]
  },
  {
   "cell_type": "code",
   "execution_count": 77,
   "id": "f253984f-2fa8-4dd1-965a-5d46afafb0d4",
   "metadata": {},
   "outputs": [
    {
     "name": "stdout",
     "output_type": "stream",
     "text": [
      "\n",
      "    Name: Doublesided\n",
      "    Rating: 5\n",
      "    Count: 3\n",
      "    Experience: Web Design, Marketing\n",
      "    Address: 1 Pancras Square\n",
      "King's Cross\n",
      "———\n",
      "\n",
      "    Name: WP Design\n",
      "    Rating: 5\n",
      "    Count: 1\n",
      "    Experience: Web Design, Marketing, Advertising\n",
      "    Address: 20 Jerusalem Passage\n",
      "Clerkenwell\n",
      "———\n",
      "\n",
      "    Name: Marc James Studios\n",
      "    Rating: 5\n",
      "    Count: 1\n",
      "    Experience: Web Design, Marketing, Graphic Design\n",
      "    Address: Dalston\n",
      "———\n",
      "\n",
      "    Name: HighGrade Design\n",
      "    Rating: 5\n",
      "    Count: 1\n",
      "    Experience: Web Design, Advertising, Graphic Design\n",
      "    Address: 10-12 Arcade Chambers\n",
      "Eltham\n",
      "———\n",
      "\n",
      "    Name: SynapseWebSolutions\n",
      "    Rating: 5\n",
      "    Count: 1\n",
      "    Experience: Web Design, Software Development, Marketing\n",
      "    Address: Serving London and the Surrounding Area\n",
      "———\n",
      "\n",
      "    Name: Think Social Media!\n",
      "    Rating: 0\n",
      "    Count: 0\n",
      "    Experience: nan\n",
      "    Address: Cambridge Road\n",
      "Holborn\n",
      "———\n",
      "\n",
      "    Name: Anova London\n",
      "    Rating: 5\n",
      "    Count: 1\n",
      "    Experience: Web Design, Marketing\n",
      "    Address: 33-35 Daws Lane\n",
      "Mill Hill\n",
      "———\n",
      "\n",
      "    Name: Addictivity\n",
      "    Rating: 5\n",
      "    Count: 1\n",
      "    Experience: Web Design, Marketing\n",
      "    Address: 155 Commercial Street\n",
      "Spitalfields\n",
      "———\n",
      "\n",
      "    Name: Grey Fox Web Design\n",
      "    Rating: 5\n",
      "    Count: 1\n",
      "    Experience: Web Design, Graphic Design\n",
      "    Address: 12 Monteagle Way\n",
      "Peckham\n",
      "———\n",
      "\n",
      "    Name: Moore Wilson\n",
      "    Rating: 5\n",
      "    Count: 1\n",
      "    Experience: Graphic Design\n",
      "    Address: 19 Garrick Street\n",
      "Covent Garden\n",
      "———\n"
     ]
    }
   ],
   "source": [
    "for card in cards:\n",
    "    left = card.find_element_by_xpath('div[1]//div[@class=\" border-color--default__09f24__NPAKY\"]')\n",
    "    # Name\n",
    "    try: name = left.find_element_by_xpath('div[1]/div/div//a').text\n",
    "    except: name = np.nan\n",
    "    \n",
    "    # Rating\n",
    "    try: rating = left.find_element_by_xpath('div[2]/div/div/div/span/div').get_attribute(\"aria-label\")[0]\n",
    "    except: rating = 0\n",
    "    \n",
    "    # Rating count\n",
    "    try: rat_cnt = left.find_element_by_xpath('div[2]/div/div/div[2]').text\n",
    "    except: rat_cnt = 0\n",
    "    \n",
    "    # Expertise\n",
    "    try: exp = left.find_element_by_xpath('div[3]/div/div/div/p').text.strip()\n",
    "    except: exp = np.nan\n",
    "    \n",
    "    # Address\n",
    "    try: address = card.find_element_by_xpath('div[2]').text\n",
    "    except: address = np.nan\n",
    "    \n",
    "    print(f'''\n",
    "    Name: {name}\n",
    "    Rating: {rating}\n",
    "    Count: {rat_cnt}\n",
    "    Experience: {exp}\n",
    "    Address: {address}''', end=\"\\n———\\n\")"
   ]
  },
  {
   "cell_type": "markdown",
   "id": "59f6d954-f3e5-4ece-8355-a691ffd4de0b",
   "metadata": {},
   "source": [
    "# "
   ]
  },
  {
   "cell_type": "markdown",
   "id": "353798d7-61d0-4b17-a613-e6fc646b2f49",
   "metadata": {},
   "source": [
    "# Done?\n",
    "Nah, we want to crawn through all pages — let's do that!"
   ]
  },
  {
   "cell_type": "code",
   "execution_count": 4,
   "id": "1fa2bc6d-b486-4cc9-981f-e938562f564f",
   "metadata": {},
   "outputs": [],
   "source": [
    "site = \"https://www.yelp.com/search?find_desc=Web+Design&find_loc=London%2C+United+Kingdom\"\n",
    "driver = webdriver.Edge(\"C:/WebDrivers/msedgedriver.exe\")\n",
    "driver.get(site)\n",
    "driver.maximize_window()"
   ]
  },
  {
   "cell_type": "code",
   "execution_count": null,
   "id": "506b2cad-0ea0-4713-bb69-481a07cd3df0",
   "metadata": {},
   "outputs": [],
   "source": [
    "data = []\n",
    "th = 0\n",
    "while True:\n",
    "    try:\n",
    "        time.sleep(5)\n",
    "        cards = driver.find_elements_by_xpath('//main[@id=\"main-content\"]/div/ul/li/div/div/div/div[2]/div[1]/div')\n",
    "        \n",
    "        for card in cards:\n",
    "            left = card.find_element_by_xpath('div[1]//div[@class=\" border-color--default__09f24__NPAKY\"]')\n",
    "            # Name\n",
    "            try: name = left.find_element_by_xpath('div[1]/div/div//a').text\n",
    "            except: name = np.nan\n",
    "\n",
    "            # Rating\n",
    "            try: rating = left.find_element_by_xpath('div[2]/div/div/div/span/div').get_attribute(\"aria-label\")[0]\n",
    "            except: rating = 0\n",
    "\n",
    "            # Rating count\n",
    "            try: rat_cnt = left.find_element_by_xpath('div[2]/div/div/div[2]').text\n",
    "            except: rat_cnt = 0\n",
    "\n",
    "            # Expertise\n",
    "            try: exp = left.find_element_by_xpath('div[3]/div/div/div/p').text.strip()\n",
    "            except: exp = np.nan\n",
    "\n",
    "            # Address\n",
    "            try: address = card.find_element_by_xpath('div[2]').text\n",
    "            except: address = np.nan\n",
    "\n",
    "            print(f'''\n",
    "            Name: {name}\n",
    "            Rating: {rating}\n",
    "            Count: {rat_cnt}\n",
    "            Experience: {exp}\n",
    "            Address: {address}''', end=\"\\n———\\n\")\n",
    "            \n",
    "            data.append({\"name\":name,\n",
    "                         \"rating\":rating,\n",
    "                         \"count\":rat_cnt,\n",
    "                         \"exp\":exp,\n",
    "                         \"address\":address})\n",
    "        \n",
    "        \n",
    "        next_link = driver.find_element_by_class_name(\"next-link\")\n",
    "        next_link.click()\n",
    "        th += 1\n",
    "        \n",
    "    except:\n",
    "        print(f\"Breaked at {th} page\")\n",
    "        driver.close()\n",
    "        break"
   ]
  },
  {
   "cell_type": "markdown",
   "id": "be115f38-6d61-4dc9-a916-2a321999366b",
   "metadata": {},
   "source": [
    "## Making Pandas"
   ]
  },
  {
   "cell_type": "code",
   "execution_count": 4,
   "id": "7d3e4f5c-f7c1-4e01-925a-3d3cf1e1760f",
   "metadata": {},
   "outputs": [],
   "source": [
    "import pandas as pd"
   ]
  },
  {
   "cell_type": "code",
   "execution_count": 5,
   "id": "f2edb1d7-2e8f-4975-baf5-97bf8b816352",
   "metadata": {},
   "outputs": [
    {
     "data": {
      "text/html": [
       "<div>\n",
       "<style scoped>\n",
       "    .dataframe tbody tr th:only-of-type {\n",
       "        vertical-align: middle;\n",
       "    }\n",
       "\n",
       "    .dataframe tbody tr th {\n",
       "        vertical-align: top;\n",
       "    }\n",
       "\n",
       "    .dataframe thead th {\n",
       "        text-align: right;\n",
       "    }\n",
       "</style>\n",
       "<table border=\"1\" class=\"dataframe\">\n",
       "  <thead>\n",
       "    <tr style=\"text-align: right;\">\n",
       "      <th></th>\n",
       "      <th>name</th>\n",
       "      <th>rating</th>\n",
       "      <th>count</th>\n",
       "      <th>exp</th>\n",
       "      <th>address</th>\n",
       "    </tr>\n",
       "  </thead>\n",
       "  <tbody>\n",
       "    <tr>\n",
       "      <th>0</th>\n",
       "      <td>Doublesided</td>\n",
       "      <td>5</td>\n",
       "      <td>3</td>\n",
       "      <td>Web Design, Marketing</td>\n",
       "      <td>1 Pancras Square\\nKing's Cross</td>\n",
       "    </tr>\n",
       "    <tr>\n",
       "      <th>1</th>\n",
       "      <td>WP Design</td>\n",
       "      <td>5</td>\n",
       "      <td>1</td>\n",
       "      <td>Web Design, Marketing, Advertising</td>\n",
       "      <td>20 Jerusalem Passage\\nClerkenwell</td>\n",
       "    </tr>\n",
       "    <tr>\n",
       "      <th>2</th>\n",
       "      <td>Marc James Studios</td>\n",
       "      <td>5</td>\n",
       "      <td>1</td>\n",
       "      <td>Web Design, Marketing, Graphic Design</td>\n",
       "      <td>Dalston</td>\n",
       "    </tr>\n",
       "    <tr>\n",
       "      <th>3</th>\n",
       "      <td>HighGrade Design</td>\n",
       "      <td>5</td>\n",
       "      <td>1</td>\n",
       "      <td>Web Design, Advertising, Graphic Design</td>\n",
       "      <td>10-12 Arcade Chambers\\nEltham</td>\n",
       "    </tr>\n",
       "    <tr>\n",
       "      <th>4</th>\n",
       "      <td>SynapseWebSolutions</td>\n",
       "      <td>5</td>\n",
       "      <td>1</td>\n",
       "      <td>Web Design, Software Development, Marketing</td>\n",
       "      <td>Serving London and the Surrounding Area</td>\n",
       "    </tr>\n",
       "    <tr>\n",
       "      <th>...</th>\n",
       "      <td>...</td>\n",
       "      <td>...</td>\n",
       "      <td>...</td>\n",
       "      <td>...</td>\n",
       "      <td>...</td>\n",
       "    </tr>\n",
       "    <tr>\n",
       "      <th>235</th>\n",
       "      <td>Linkinet</td>\n",
       "      <td>0</td>\n",
       "      <td>0</td>\n",
       "      <td>NaN</td>\n",
       "      <td></td>\n",
       "    </tr>\n",
       "    <tr>\n",
       "      <th>236</th>\n",
       "      <td>Web Spiders</td>\n",
       "      <td>0</td>\n",
       "      <td>0</td>\n",
       "      <td>NaN</td>\n",
       "      <td>1 Royal Exchange Avenue\\nThe City</td>\n",
       "    </tr>\n",
       "    <tr>\n",
       "      <th>237</th>\n",
       "      <td>Fgjrjrj</td>\n",
       "      <td>0</td>\n",
       "      <td>0</td>\n",
       "      <td>NaN</td>\n",
       "      <td>88 Wood Street\\nThe City</td>\n",
       "    </tr>\n",
       "    <tr>\n",
       "      <th>238</th>\n",
       "      <td>Wastronauts</td>\n",
       "      <td>0</td>\n",
       "      <td>0</td>\n",
       "      <td>NaN</td>\n",
       "      <td>71 Shelton Street\\nCovent Garden</td>\n",
       "    </tr>\n",
       "    <tr>\n",
       "      <th>239</th>\n",
       "      <td>Wedidit Creative</td>\n",
       "      <td>0</td>\n",
       "      <td>0</td>\n",
       "      <td>NaN</td>\n",
       "      <td>133 Creek Road\\nDeptford</td>\n",
       "    </tr>\n",
       "  </tbody>\n",
       "</table>\n",
       "<p>240 rows × 5 columns</p>\n",
       "</div>"
      ],
      "text/plain": [
       "                    name rating count  \\\n",
       "0            Doublesided      5     3   \n",
       "1              WP Design      5     1   \n",
       "2     Marc James Studios      5     1   \n",
       "3       HighGrade Design      5     1   \n",
       "4    SynapseWebSolutions      5     1   \n",
       "..                   ...    ...   ...   \n",
       "235             Linkinet      0     0   \n",
       "236          Web Spiders      0     0   \n",
       "237              Fgjrjrj      0     0   \n",
       "238          Wastronauts      0     0   \n",
       "239     Wedidit Creative      0     0   \n",
       "\n",
       "                                             exp  \\\n",
       "0                          Web Design, Marketing   \n",
       "1             Web Design, Marketing, Advertising   \n",
       "2          Web Design, Marketing, Graphic Design   \n",
       "3        Web Design, Advertising, Graphic Design   \n",
       "4    Web Design, Software Development, Marketing   \n",
       "..                                           ...   \n",
       "235                                          NaN   \n",
       "236                                          NaN   \n",
       "237                                          NaN   \n",
       "238                                          NaN   \n",
       "239                                          NaN   \n",
       "\n",
       "                                     address  \n",
       "0             1 Pancras Square\\nKing's Cross  \n",
       "1          20 Jerusalem Passage\\nClerkenwell  \n",
       "2                                    Dalston  \n",
       "3              10-12 Arcade Chambers\\nEltham  \n",
       "4    Serving London and the Surrounding Area  \n",
       "..                                       ...  \n",
       "235                                           \n",
       "236        1 Royal Exchange Avenue\\nThe City  \n",
       "237                 88 Wood Street\\nThe City  \n",
       "238         71 Shelton Street\\nCovent Garden  \n",
       "239                 133 Creek Road\\nDeptford  \n",
       "\n",
       "[240 rows x 5 columns]"
      ]
     },
     "execution_count": 5,
     "metadata": {},
     "output_type": "execute_result"
    }
   ],
   "source": [
    "df = pd.DataFrame(data)\n",
    "df"
   ]
  },
  {
   "cell_type": "code",
   "execution_count": 6,
   "id": "897f4352-41a7-4ed8-9b61-bbfa082b6543",
   "metadata": {},
   "outputs": [],
   "source": [
    "df.to_csv(\"yelp_web_designers.csv\", index=False)"
   ]
  },
  {
   "cell_type": "markdown",
   "id": "185ae827-c152-4272-8932-e3f43a25d6d7",
   "metadata": {},
   "source": [
    "# "
   ]
  },
  {
   "cell_type": "markdown",
   "id": "db224db3-45fc-4ed6-bbe1-71aed0fffe36",
   "metadata": {},
   "source": [
    "# Now, Done.\n",
    "Now, I am satisfied with the work and the project is done. The data is purely analysable and usable!"
   ]
  }
 ],
 "metadata": {
  "kernelspec": {
   "display_name": "Python 3 (ipykernel)",
   "language": "python",
   "name": "python3"
  },
  "language_info": {
   "codemirror_mode": {
    "name": "ipython",
    "version": 3
   },
   "file_extension": ".py",
   "mimetype": "text/x-python",
   "name": "python",
   "nbconvert_exporter": "python",
   "pygments_lexer": "ipython3",
   "version": "3.9.7"
  }
 },
 "nbformat": 4,
 "nbformat_minor": 5
}
